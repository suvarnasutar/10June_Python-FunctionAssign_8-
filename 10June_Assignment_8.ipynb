{
 "cells": [
  {
   "cell_type": "code",
   "execution_count": null,
   "id": "84e5349e",
   "metadata": {},
   "outputs": [],
   "source": [
    "  ######### Que 1 ##########"
   ]
  },
  {
   "cell_type": "code",
   "execution_count": null,
   "id": "5c0806f0",
   "metadata": {},
   "outputs": [],
   "source": [
    "1. In Python, what is the difference between a built-in function and a user-defined function? Provide an\n",
    "example of each."
   ]
  },
  {
   "cell_type": "code",
   "execution_count": null,
   "id": "b934f78a",
   "metadata": {},
   "outputs": [],
   "source": [
    "built-in function:\n",
    "    Built-in functions are already defined in pythonA user has to remember the name and parameters of a particular function.\n",
    "    Since these functions are pre-defined, there is no need to define them again.\n",
    "    some of the built-in functions are:\n",
    "        len(),max(),min(),type(),input(),format(),sum() etc.\n",
    "user defined function:\n",
    "     these types of functions are defined by the user to perform any specific task or to reduce the complexity of big problems \n",
    "     and use that function according to their need.\n",
    "Examples of each:    "
   ]
  },
  {
   "cell_type": "code",
   "execution_count": 6,
   "id": "bba97458",
   "metadata": {},
   "outputs": [
    {
     "name": "stdout",
     "output_type": "stream",
     "text": [
      "multiplication is :  10\n"
     ]
    }
   ],
   "source": [
    "## user defined function mul()\n",
    "def mul(x,y):          \n",
    "    return x*y\n",
    "\n",
    "print(\"multiplication is : \",mul(5,2))"
   ]
  },
  {
   "cell_type": "code",
   "execution_count": 8,
   "id": "b7f4e560",
   "metadata": {},
   "outputs": [
    {
     "name": "stdout",
     "output_type": "stream",
     "text": [
      "Length of string :  6\n",
      "Maximum number in list :  6\n",
      "Type :  <class 'list'>\n"
     ]
    }
   ],
   "source": [
    "l = [1,2,3,4,5,6]\n",
    "## built-in functions len(),max(),type()\n",
    "print(\"Length of string : \",len(l))\n",
    "print(\"Maximum number in list : \",max(l))\n",
    "print(\"Type : \",type(l))"
   ]
  },
  {
   "cell_type": "code",
   "execution_count": null,
   "id": "01c60d07",
   "metadata": {},
   "outputs": [],
   "source": []
  },
  {
   "cell_type": "code",
   "execution_count": null,
   "id": "af08b6fd",
   "metadata": {},
   "outputs": [],
   "source": [
    " ######### Que 2 ##########"
   ]
  },
  {
   "cell_type": "code",
   "execution_count": null,
   "id": "51b56cbf",
   "metadata": {},
   "outputs": [],
   "source": [
    "2. How can you pass arguments to a function in Python? Explain the difference between positional\n",
    "arguments and keyword arguments."
   ]
  },
  {
   "cell_type": "code",
   "execution_count": null,
   "id": "91294e56",
   "metadata": {},
   "outputs": [],
   "source": [
    "Arguments are specified after the function name, inside the parentheses. You can add as many arguments as you want, just \n",
    "separate them with a comma.\n",
    "Positional arguments have commas between their values. Keyword arguments have a name and an equals sign in addition to those\n",
    "values and commas."
   ]
  },
  {
   "cell_type": "code",
   "execution_count": 9,
   "id": "9009497b",
   "metadata": {},
   "outputs": [
    {
     "name": "stdout",
     "output_type": "stream",
     "text": [
      "2 1 3 4\n"
     ]
    }
   ],
   "source": [
    "print(2,1,3,4)    # positional argument.The order of these arguments is significant"
   ]
  },
  {
   "cell_type": "code",
   "execution_count": 1,
   "id": "11c1b168",
   "metadata": {},
   "outputs": [
    {
     "name": "stdout",
     "output_type": "stream",
     "text": [
      "2, 1, 3, 4!!\n"
     ]
    }
   ],
   "source": [
    "print(2, 1, 3, 4, end='!!\\n', sep=', ')   # keyword arguments.  end=  and  sep="
   ]
  },
  {
   "cell_type": "code",
   "execution_count": null,
   "id": "8b5f0b03",
   "metadata": {},
   "outputs": [],
   "source": []
  },
  {
   "cell_type": "code",
   "execution_count": null,
   "id": "f43ba1cf",
   "metadata": {},
   "outputs": [],
   "source": [
    " ######### Que 3 ##########"
   ]
  },
  {
   "cell_type": "code",
   "execution_count": null,
   "id": "a88320d1",
   "metadata": {},
   "outputs": [],
   "source": [
    "3. What is the purpose of the return statement in a function? Can a function have multiple return\n",
    "statements? Explain with an example."
   ]
  },
  {
   "cell_type": "code",
   "execution_count": null,
   "id": "a5e9f2b4",
   "metadata": {},
   "outputs": [],
   "source": [
    "A return statement is used to end the execution of the function call and “returns” the result  to the caller. The statements\n",
    "after the return statements are not executed. If the return statement is without any expression, then the special value None is\n",
    "returned.\n",
    "for example:"
   ]
  },
  {
   "cell_type": "code",
   "execution_count": 4,
   "id": "7ac4032e",
   "metadata": {},
   "outputs": [
    {
     "name": "stdout",
     "output_type": "stream",
     "text": [
      "result is: 9\n"
     ]
    }
   ],
   "source": [
    "def sum(a,b):\n",
    "    #print(\"Enter values of a and b : \",a,b)\n",
    "    c=a+b\n",
    "    return c\n",
    "result=sum(3,6)\n",
    "print(\"result is: {}\".format(result))"
   ]
  },
  {
   "cell_type": "code",
   "execution_count": null,
   "id": "8e583d8a",
   "metadata": {},
   "outputs": [],
   "source": [
    "A function can have multiple return statements. When any of them is executed, the function terminates. A function can return\n",
    "multiple types of values. Python functions can return multiple values in a single return statement.\n"
   ]
  },
  {
   "cell_type": "code",
   "execution_count": 10,
   "id": "0020009e",
   "metadata": {},
   "outputs": [
    {
     "name": "stdout",
     "output_type": "stream",
     "text": [
      "odd \n"
     ]
    }
   ],
   "source": [
    "def type_of_int(i):\n",
    "    if i % 2 == 0:\n",
    "        return 'even'\n",
    "    else:\n",
    "        return \"odd \"\n",
    " \n",
    "result = type_of_int(7)\n",
    " \n",
    "print(result)"
   ]
  },
  {
   "cell_type": "code",
   "execution_count": null,
   "id": "92be7dac",
   "metadata": {},
   "outputs": [],
   "source": []
  },
  {
   "cell_type": "code",
   "execution_count": null,
   "id": "16d6ccff",
   "metadata": {},
   "outputs": [],
   "source": [
    " ######### Que 4 ##########"
   ]
  },
  {
   "cell_type": "code",
   "execution_count": null,
   "id": "399ed595",
   "metadata": {},
   "outputs": [],
   "source": [
    "4. What are lambda functions in Python? How are they different from regular functions? Provide an\n",
    "example where a lambda function can be useful."
   ]
  },
  {
   "cell_type": "code",
   "execution_count": null,
   "id": "41c62320",
   "metadata": {},
   "outputs": [],
   "source": [
    "A lambda function is an anonymous function (i.e., defined without a name) that can take any number of arguments but, unlike \n",
    "normal functions, evaluates and returns only one expression.  unlike a normal function, we don't surround the \n",
    "parameters of a lambda function with parentheses."
   ]
  },
  {
   "cell_type": "code",
   "execution_count": 11,
   "id": "09e24ec5",
   "metadata": {},
   "outputs": [
    {
     "name": "stdout",
     "output_type": "stream",
     "text": [
      "6.0\n"
     ]
    }
   ],
   "source": [
    "# define function using lambda for square root\n",
    "square_root=lambda x:x**(1/2)\n",
    "\n",
    "# calling of lambda function\n",
    "print(square_root(36))"
   ]
  },
  {
   "cell_type": "code",
   "execution_count": null,
   "id": "b106d7bc",
   "metadata": {},
   "outputs": [],
   "source": []
  },
  {
   "cell_type": "code",
   "execution_count": null,
   "id": "8b2d2660",
   "metadata": {},
   "outputs": [],
   "source": [
    " ######### Que 5 ##########"
   ]
  },
  {
   "cell_type": "code",
   "execution_count": null,
   "id": "414e2251",
   "metadata": {},
   "outputs": [],
   "source": [
    "5. How does the concept of \"scope\" apply to functions in Python? Explain the difference between local\n",
    "scope and global scope."
   ]
  },
  {
   "cell_type": "code",
   "execution_count": null,
   "id": "573d091b",
   "metadata": {},
   "outputs": [],
   "source": [
    "There are two types of variables: global variables and local variables. The scope of global variables is the entire program \n",
    "whereas the scope of local variable is limited to the function where it is defined.\n",
    "**Local variables can only be reached within their scope.in below program- there are two local variables  x and y."
   ]
  },
  {
   "cell_type": "code",
   "execution_count": 14,
   "id": "275b602d",
   "metadata": {},
   "outputs": [
    {
     "name": "stdout",
     "output_type": "stream",
     "text": [
      "15\n"
     ]
    }
   ],
   "source": [
    "def sum(x,y):\n",
    "    sum = x + y\n",
    "    return sum\n",
    "print(sum(5, 10))"
   ]
  },
  {
   "cell_type": "code",
   "execution_count": null,
   "id": "f1a8a5ed",
   "metadata": {},
   "outputs": [],
   "source": [
    "**A global variable can be used anywhere in the program as its scope is the entire program."
   ]
  },
  {
   "cell_type": "code",
   "execution_count": 26,
   "id": "1a3bb487",
   "metadata": {},
   "outputs": [
    {
     "name": "stdout",
     "output_type": "stream",
     "text": [
      "25\n",
      "20\n"
     ]
    }
   ],
   "source": [
    "z = 25\n",
    "def func():\n",
    "   global z          #using global keyword, the variable belongs to the global scope.\n",
    "   print(z)\n",
    "   z=20\n",
    "func()\n",
    "print(z)"
   ]
  },
  {
   "cell_type": "code",
   "execution_count": null,
   "id": "e571a1d2",
   "metadata": {},
   "outputs": [],
   "source": []
  },
  {
   "cell_type": "code",
   "execution_count": null,
   "id": "fc244b04",
   "metadata": {},
   "outputs": [],
   "source": [
    " ######### Que6 ##########"
   ]
  },
  {
   "cell_type": "code",
   "execution_count": null,
   "id": "d5f61ecf",
   "metadata": {},
   "outputs": [],
   "source": [
    "6. How can you use the \"return\" statement in a Python function to return multiple values?"
   ]
  },
  {
   "cell_type": "code",
   "execution_count": null,
   "id": "ef19aaca",
   "metadata": {},
   "outputs": [],
   "source": [
    "To return multiple values in python function we didn't use parentheses in return statement."
   ]
  },
  {
   "cell_type": "code",
   "execution_count": 27,
   "id": "0b4ce1c9",
   "metadata": {},
   "outputs": [
    {
     "name": "stdout",
     "output_type": "stream",
     "text": [
      "('bob', 32, 'boston')\n"
     ]
    }
   ],
   "source": [
    "def person():\n",
    "   return \"bob\", 32, \"boston\"\n",
    " \n",
    "print(person())\n"
   ]
  },
  {
   "cell_type": "code",
   "execution_count": 32,
   "id": "341d2984",
   "metadata": {},
   "outputs": [
    {
     "name": "stdout",
     "output_type": "stream",
     "text": [
      "[1, 2, 3, 4, 5, 6, 7, 8, 9, 10]\n"
     ]
    }
   ],
   "source": [
    "def ten_numbers():\n",
    "    n=[]                #  returning multiple values of list\n",
    "    for i in range(1,11):\n",
    "        n.append(i)\n",
    "    return n\n",
    "print(ten_numbers())"
   ]
  },
  {
   "cell_type": "code",
   "execution_count": 34,
   "id": "199e054a",
   "metadata": {},
   "outputs": [
    {
     "name": "stdout",
     "output_type": "stream",
     "text": [
      "{'Gargi': 'M.TECH'}\n"
     ]
    }
   ],
   "source": [
    "def employees(name,qualification):\n",
    "    info={}\n",
    "    info[name]= qualification\n",
    "    return info          #  returning multiple values using dictionary\n",
    "\n",
    "employee_info = employees(\"Gargi\",\"M.TECH\")\n",
    "print(employee_info)"
   ]
  },
  {
   "cell_type": "code",
   "execution_count": null,
   "id": "4aa358ea",
   "metadata": {},
   "outputs": [],
   "source": []
  },
  {
   "cell_type": "code",
   "execution_count": null,
   "id": "60e5ec5a",
   "metadata": {},
   "outputs": [],
   "source": [
    " ######### Que 7 ##########"
   ]
  },
  {
   "cell_type": "code",
   "execution_count": null,
   "id": "3aa361cb",
   "metadata": {},
   "outputs": [],
   "source": [
    "7. What is the difference between the \"pass by value\" and \"pass by reference\" concepts when it\n",
    "comes to function arguments in Python?"
   ]
  },
  {
   "cell_type": "code",
   "execution_count": null,
   "id": "2b4fd47e",
   "metadata": {},
   "outputs": [],
   "source": [
    "Pass by reference – It is used in some programming languages, where values to the argument of the function are passed by \n",
    "reference which means that the address of the variable is passed and then the operation is done on the value stored at these \n",
    "addresses.\n",
    "\n",
    "Pass by value – It means that the value is directly passed as the value to the argument of the function. Here, the operation is\n",
    "done on the value and then the value is stored at the address. Pass by value is used for a copy of the variable.\n",
    "\n",
    "\n"
   ]
  },
  {
   "cell_type": "code",
   "execution_count": 35,
   "id": "466fe68c",
   "metadata": {},
   "outputs": [
    {
     "name": "stdout",
     "output_type": "stream",
     "text": [
      "Inside the function {'Jim': 12, 'Anna': 14, 'Preet': 10, 'Sam': 20, 'Steve': 21}\n",
      "Outside the function: {'Jim': 12, 'Anna': 14, 'Preet': 10, 'Sam': 20, 'Steve': 21}\n"
     ]
    }
   ],
   "source": [
    "student = {'Jim': 12, 'Anna': 14, 'Preet': 10}\n",
    "def test(student):\n",
    "    new = {'Sam':20, 'Steve':21}\n",
    "    student.update(new)  # call by reference\n",
    "    print(\"Inside the function\", student)\n",
    "    return \n",
    "test(student) # function call\n",
    "print(\"Outside the function:\", student)"
   ]
  },
  {
   "cell_type": "code",
   "execution_count": 36,
   "id": "c93adb8e",
   "metadata": {},
   "outputs": [
    {
     "name": "stdout",
     "output_type": "stream",
     "text": [
      "Inside the function {'Sam': 20, 'Steve': 21}\n",
      "Outside the function: {'Jim': 12, 'Anna': 14, 'Preet': 10}\n"
     ]
    }
   ],
   "source": [
    "student = {'Jim': 12, 'Anna': 14, 'Preet': 10}\n",
    "def test(student):\n",
    "    student = {'Sam':20, 'Steve':21}\n",
    "    print(\"Inside the function\", student)\n",
    "    return \n",
    "test(student)\n",
    "print(\"Outside the function:\", student)"
   ]
  },
  {
   "cell_type": "code",
   "execution_count": null,
   "id": "5e3e46fb",
   "metadata": {},
   "outputs": [],
   "source": []
  },
  {
   "cell_type": "code",
   "execution_count": null,
   "id": "fdddabb9",
   "metadata": {},
   "outputs": [],
   "source": [
    " ######### Que 8 ##########"
   ]
  },
  {
   "cell_type": "code",
   "execution_count": null,
   "id": "c34dc2ad",
   "metadata": {},
   "outputs": [],
   "source": [
    "8. Create a function that can intake integer or decimal value and do following operations:\n",
    "a. Logarithmic function (log x)\n",
    "b. Exponential function (exp(x))\n",
    "c. Power function with base 2 (2^x)\n",
    "d. Square root"
   ]
  },
  {
   "cell_type": "code",
   "execution_count": 60,
   "id": "69076b5d",
   "metadata": {},
   "outputs": [
    {
     "name": "stdout",
     "output_type": "stream",
     "text": [
      "The value of log of 16 is : 2.772588722239781\n",
      "The value of exp of 16 is : 54.598150033144236\n",
      "The value of 3 to the power 2 is : 9.0\n",
      "The value of square root of 25 : 5.0\n"
     ]
    }
   ],
   "source": [
    "import math\n",
    "print (\"The value of log of 16 is : \", end=\"\")\n",
    "print (math.log(16))\n",
    "\n",
    "print (\"The value of exp of 16 is : \", end=\"\")\n",
    "print (math.exp(4))\n",
    "\n",
    "print (\"The value of 3 to the power 2 is : \", end=\"\")\n",
    "print (math.pow(3,2))\n",
    " \n",
    "print (\"The value of square root of 25 : \", end=\"\")\n",
    "print (math.sqrt(25))\n"
   ]
  },
  {
   "cell_type": "code",
   "execution_count": null,
   "id": "060ebfbd",
   "metadata": {},
   "outputs": [],
   "source": []
  },
  {
   "cell_type": "code",
   "execution_count": null,
   "id": "44e559e5",
   "metadata": {},
   "outputs": [],
   "source": [
    " ######### Que 9 ##########"
   ]
  },
  {
   "cell_type": "code",
   "execution_count": null,
   "id": "2cfe4f90",
   "metadata": {},
   "outputs": [],
   "source": [
    "9. Create a function that takes a full name as an argument and returns first name and last name."
   ]
  },
  {
   "cell_type": "code",
   "execution_count": 64,
   "id": "9363e362",
   "metadata": {},
   "outputs": [
    {
     "data": {
      "text/plain": [
       "'Suzain Das'"
      ]
     },
     "execution_count": 64,
     "metadata": {},
     "output_type": "execute_result"
    }
   ],
   "source": [
    "def Name(firstname,middlename,lastname):\n",
    "    return firstname + ' ' + lastname\n",
    "    print(\"hello\",Name)\n",
    "    \n",
    "Name(\"Suzain\",\"Om\" , \"Das\")\n",
    "    "
   ]
  },
  {
   "cell_type": "code",
   "execution_count": null,
   "id": "de5c6f35",
   "metadata": {},
   "outputs": [],
   "source": []
  }
 ],
 "metadata": {
  "kernelspec": {
   "display_name": "Python 3 (ipykernel)",
   "language": "python",
   "name": "python3"
  },
  "language_info": {
   "codemirror_mode": {
    "name": "ipython",
    "version": 3
   },
   "file_extension": ".py",
   "mimetype": "text/x-python",
   "name": "python",
   "nbconvert_exporter": "python",
   "pygments_lexer": "ipython3",
   "version": "3.11.3"
  }
 },
 "nbformat": 4,
 "nbformat_minor": 5
}
